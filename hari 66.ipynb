{
 "cells": [
  {
   "cell_type": "code",
   "execution_count": 1,
   "id": "244ca554",
   "metadata": {},
   "outputs": [
    {
     "ename": "SyntaxError",
     "evalue": "unterminated string literal (detected at line 1) (194939544.py, line 1)",
     "output_type": "error",
     "traceback": [
      "\u001b[1;36m  Cell \u001b[1;32mIn[1], line 1\u001b[1;36m\u001b[0m\n\u001b[1;33m    list=[\"vinay\",\"car,\"bike\"]\u001b[0m\n\u001b[1;37m                            ^\u001b[0m\n\u001b[1;31mSyntaxError\u001b[0m\u001b[1;31m:\u001b[0m unterminated string literal (detected at line 1)\n"
     ]
    }
   ],
   "source": [
    "list=[\"vinay\",\"car,\"bike\"]"
   ]
  },
  {
   "cell_type": "code",
   "execution_count": 2,
   "id": "01e2d89f",
   "metadata": {},
   "outputs": [],
   "source": [
    "list=[\"vinay\",\"holiday\",\"bike\"]"
   ]
  },
  {
   "cell_type": "code",
   "execution_count": 3,
   "id": "2e6a5da2",
   "metadata": {},
   "outputs": [
    {
     "data": {
      "text/plain": [
       "['vinay', 'holiday', 'bike']"
      ]
     },
     "execution_count": 3,
     "metadata": {},
     "output_type": "execute_result"
    }
   ],
   "source": [
    "list"
   ]
  },
  {
   "cell_type": "code",
   "execution_count": 4,
   "id": "9c05b610",
   "metadata": {},
   "outputs": [
    {
     "data": {
      "text/plain": [
       "'vinay'"
      ]
     },
     "execution_count": 4,
     "metadata": {},
     "output_type": "execute_result"
    }
   ],
   "source": [
    "list[0]"
   ]
  },
  {
   "cell_type": "code",
   "execution_count": 5,
   "id": "fa3c5618",
   "metadata": {},
   "outputs": [],
   "source": [
    "dic={\"key\":\"value\",\"key1\":\"value2\",\"key\":\"value2\"}"
   ]
  },
  {
   "cell_type": "code",
   "execution_count": 9,
   "id": "b6406a29",
   "metadata": {},
   "outputs": [],
   "source": [
    "vinay={\"name\":\"vinay\",\"email\":\"panthuluvinay040604\",\"college\":\"kmics\",\"place\": \"hyderabad\"}"
   ]
  },
  {
   "cell_type": "code",
   "execution_count": 10,
   "id": "811cf25a",
   "metadata": {},
   "outputs": [
    {
     "data": {
      "text/plain": [
       "{'name': 'vinay',\n",
       " 'email': 'panthuluvinay040604',\n",
       " 'college': 'kmics',\n",
       " 'place': 'hyderabad'}"
      ]
     },
     "execution_count": 10,
     "metadata": {},
     "output_type": "execute_result"
    }
   ],
   "source": [
    "vinay"
   ]
  },
  {
   "cell_type": "code",
   "execution_count": 11,
   "id": "efce6df7",
   "metadata": {},
   "outputs": [
    {
     "data": {
      "text/plain": [
       "dict_keys(['name', 'email', 'college', 'place'])"
      ]
     },
     "execution_count": 11,
     "metadata": {},
     "output_type": "execute_result"
    }
   ],
   "source": [
    "vinay.keys()"
   ]
  },
  {
   "cell_type": "code",
   "execution_count": 12,
   "id": "aeeec1a5",
   "metadata": {},
   "outputs": [
    {
     "data": {
      "text/plain": [
       "dict"
      ]
     },
     "execution_count": 12,
     "metadata": {},
     "output_type": "execute_result"
    }
   ],
   "source": [
    "type(vinay)"
   ]
  },
  {
   "cell_type": "code",
   "execution_count": 14,
   "id": "13dd9ef9",
   "metadata": {},
   "outputs": [],
   "source": [
    "vinay[0]=\"bhavana\""
   ]
  },
  {
   "cell_type": "code",
   "execution_count": 15,
   "id": "137a3a10",
   "metadata": {},
   "outputs": [
    {
     "data": {
      "text/plain": [
       "{'name': 'vinay',\n",
       " 'email': 'panthuluvinay040604',\n",
       " 'college': 'kmics',\n",
       " 'place': 'hyderabad',\n",
       " 0: 'bhavana'}"
      ]
     },
     "execution_count": 15,
     "metadata": {},
     "output_type": "execute_result"
    }
   ],
   "source": [
    "vinay"
   ]
  },
  {
   "cell_type": "code",
   "execution_count": 16,
   "id": "016df756",
   "metadata": {},
   "outputs": [],
   "source": [
    "vinay[1]=\"anaalyst\""
   ]
  },
  {
   "cell_type": "code",
   "execution_count": 17,
   "id": "86bba07d",
   "metadata": {},
   "outputs": [
    {
     "data": {
      "text/plain": [
       "{'name': 'vinay',\n",
       " 'email': 'panthuluvinay040604',\n",
       " 'college': 'kmics',\n",
       " 'place': 'hyderabad',\n",
       " 0: 'bhavana',\n",
       " 1: 'anaalyst'}"
      ]
     },
     "execution_count": 17,
     "metadata": {},
     "output_type": "execute_result"
    }
   ],
   "source": [
    "vinay"
   ]
  },
  {
   "cell_type": "code",
   "execution_count": 18,
   "id": "da2e2f1a",
   "metadata": {},
   "outputs": [],
   "source": [
    "t=(\"vinay\",\"book\",\"place\",\"bike\",\"place\")"
   ]
  },
  {
   "cell_type": "code",
   "execution_count": 21,
   "id": "a6171e34",
   "metadata": {},
   "outputs": [
    {
     "ename": "TypeError",
     "evalue": "'tuple' object does not support item assignment",
     "output_type": "error",
     "traceback": [
      "\u001b[1;31m---------------------------------------------------------------------------\u001b[0m",
      "\u001b[1;31mTypeError\u001b[0m                                 Traceback (most recent call last)",
      "Cell \u001b[1;32mIn[21], line 1\u001b[0m\n\u001b[1;32m----> 1\u001b[0m t[\u001b[38;5;241m0\u001b[39m]\u001b[38;5;241m=\u001b[39m\u001b[38;5;124m\"\u001b[39m\u001b[38;5;124mrama\u001b[39m\u001b[38;5;124m\"\u001b[39m\n",
      "\u001b[1;31mTypeError\u001b[0m: 'tuple' object does not support item assignment"
     ]
    }
   ],
   "source": [
    "t[0]=\"rama\""
   ]
  },
  {
   "cell_type": "code",
   "execution_count": 26,
   "id": "bd301db2",
   "metadata": {},
   "outputs": [],
   "source": [
    "t=[\"vinay\",\"book\",\"place\",\"bike\",\"place\"]"
   ]
  },
  {
   "cell_type": "code",
   "execution_count": 27,
   "id": "707e1f05",
   "metadata": {},
   "outputs": [
    {
     "data": {
      "text/plain": [
       "['vinay', 'book', 'place', 'bike', 'place']"
      ]
     },
     "execution_count": 27,
     "metadata": {},
     "output_type": "execute_result"
    }
   ],
   "source": [
    "t"
   ]
  },
  {
   "cell_type": "code",
   "execution_count": 28,
   "id": "972f32d6",
   "metadata": {},
   "outputs": [],
   "source": [
    "t[0]=\"car\""
   ]
  },
  {
   "cell_type": "code",
   "execution_count": 29,
   "id": "3c24cb26",
   "metadata": {},
   "outputs": [
    {
     "data": {
      "text/plain": [
       "['car', 'book', 'place', 'bike', 'place']"
      ]
     },
     "execution_count": 29,
     "metadata": {},
     "output_type": "execute_result"
    }
   ],
   "source": [
    "t\n"
   ]
  },
  {
   "cell_type": "code",
   "execution_count": 31,
   "id": "4935ab7e",
   "metadata": {},
   "outputs": [],
   "source": [
    "f=open(\"vinay.txt\",\"w\")"
   ]
  },
  {
   "cell_type": "code",
   "execution_count": 32,
   "id": "4ab1767a",
   "metadata": {},
   "outputs": [
    {
     "data": {
      "text/plain": [
       "66"
      ]
     },
     "execution_count": 32,
     "metadata": {},
     "output_type": "execute_result"
    }
   ],
   "source": [
    "f.write(\"this is my first file written in jupiter note book on 1-april-2023\")"
   ]
  },
  {
   "cell_type": "code",
   "execution_count": 33,
   "id": "ee5823d8",
   "metadata": {},
   "outputs": [],
   "source": [
    "f.close()"
   ]
  },
  {
   "cell_type": "code",
   "execution_count": null,
   "id": "8e314199",
   "metadata": {},
   "outputs": [],
   "source": []
  }
 ],
 "metadata": {
  "kernelspec": {
   "display_name": "Python 3 (ipykernel)",
   "language": "python",
   "name": "python3"
  },
  "language_info": {
   "codemirror_mode": {
    "name": "ipython",
    "version": 3
   },
   "file_extension": ".py",
   "mimetype": "text/x-python",
   "name": "python",
   "nbconvert_exporter": "python",
   "pygments_lexer": "ipython3",
   "version": "3.10.9"
  }
 },
 "nbformat": 4,
 "nbformat_minor": 5
}
