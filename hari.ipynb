{
 "cells": [
  {
   "cell_type": "markdown",
   "id": "68ae9f2b",
   "metadata": {},
   "source": [
    "# conditions"
   ]
  },
  {
   "cell_type": "markdown",
   "id": "310e6950",
   "metadata": {},
   "source": [
    "## \"\"\"conditions has 3 modules if elif else\"\"\""
   ]
  },
  {
   "cell_type": "code",
   "execution_count": 7,
   "id": "c7e1c319",
   "metadata": {},
   "outputs": [
    {
     "name": "stdout",
     "output_type": "stream",
     "text": [
      "20\n"
     ]
    }
   ],
   "source": [
    "a=10\n",
    "b=20\n",
    "c=a+b\n",
    "if  a>b:\n",
    "    print(c)\n",
    "elif a<b:\n",
    "    print(b)\n",
    "elif a!=b:\n",
    "    print(c)\n",
    "else:\n",
    "    print(\"enter the value:\")"
   ]
  },
  {
   "cell_type": "code",
   "execution_count": 8,
   "id": "68fa54dc",
   "metadata": {},
   "outputs": [
    {
     "name": "stdout",
     "output_type": "stream",
     "text": [
      "b is grt then a\n"
     ]
    }
   ],
   "source": [
    "a==20\n",
    "b=20\n",
    "if a>b:\n",
    "    print(\"a is grt then b\")\n",
    "elif b>a:\n",
    "    print(\"b is grt then a\")"
   ]
  },
  {
   "cell_type": "code",
   "execution_count": 9,
   "id": "f3b0b36b",
   "metadata": {},
   "outputs": [
    {
     "name": "stdout",
     "output_type": "stream",
     "text": [
      "1010\n"
     ]
    }
   ],
   "source": [
    "number=10\n",
    "a=f'{number:b}'\n",
    "print(a)"
   ]
  },
  {
   "cell_type": "code",
   "execution_count": 8,
   "id": "d2576552",
   "metadata": {},
   "outputs": [
    {
     "name": "stdout",
     "output_type": "stream",
     "text": [
      "     11110\n"
     ]
    }
   ],
   "source": [
    "number2=30\n",
    "b=f'{number2:10b}'\n",
    "print(b)"
   ]
  },
  {
   "cell_type": "code",
   "execution_count": 7,
   "id": "7b173a45",
   "metadata": {},
   "outputs": [
    {
     "name": "stdout",
     "output_type": "stream",
     "text": [
      "0000011110\n"
     ]
    }
   ],
   "source": [
    "number3=30\n",
    "c=f'{number3:010b}'\n",
    "print(c)"
   ]
  },
  {
   "cell_type": "markdown",
   "id": "2be84a70",
   "metadata": {},
   "source": [
    "# and or operation"
   ]
  },
  {
   "cell_type": "code",
   "execution_count": 1,
   "id": "5e1486e5",
   "metadata": {},
   "outputs": [
    {
     "name": "stdout",
     "output_type": "stream",
     "text": [
      "10\n"
     ]
    }
   ],
   "source": [
    "a=10\n",
    "b=20\n",
    "if a==10 or a==20:\n",
    "    print(a) \n"
   ]
  },
  {
   "cell_type": "markdown",
   "id": "9e165964",
   "metadata": {},
   "source": [
    "if a==10 and a==20:\n",
    "    print(a)"
   ]
  },
  {
   "cell_type": "code",
   "execution_count": 6,
   "id": "0993b4e7",
   "metadata": {},
   "outputs": [
    {
     "ename": "NameError",
     "evalue": "name 'operationd' is not defined",
     "output_type": "error",
     "traceback": [
      "\u001b[1;31m---------------------------------------------------------------------------\u001b[0m",
      "\u001b[1;31mNameError\u001b[0m                                 Traceback (most recent call last)",
      "Cell \u001b[1;32mIn[6], line 5\u001b[0m\n\u001b[0;32m      2\u001b[0m b\u001b[38;5;241m=\u001b[39m(\u001b[38;5;124m\"\u001b[39m\u001b[38;5;124menter b value\u001b[39m\u001b[38;5;124m\"\u001b[39m)\n\u001b[0;32m      3\u001b[0m operations\u001b[38;5;241m=\u001b[39m(\u001b[38;5;124m\"\u001b[39m\u001b[38;5;124menter a operation\u001b[39m\u001b[38;5;124m\"\u001b[39m,(\u001b[38;5;124m'\u001b[39m\u001b[38;5;124m+\u001b[39m\u001b[38;5;124m'\u001b[39m,\u001b[38;5;124m'\u001b[39m\u001b[38;5;124m-\u001b[39m\u001b[38;5;124m'\u001b[39m,\u001b[38;5;124m'\u001b[39m\u001b[38;5;124m*\u001b[39m\u001b[38;5;124m'\u001b[39m,\u001b[38;5;124m'\u001b[39m\u001b[38;5;124m-\u001b[39m\u001b[38;5;124m'\u001b[39m,\u001b[38;5;124m'\u001b[39m\u001b[38;5;124m/\u001b[39m\u001b[38;5;124m'\u001b[39m,\u001b[38;5;124m'\u001b[39m\u001b[38;5;124m//\u001b[39m\u001b[38;5;124m'\u001b[39m,\u001b[38;5;124m'\u001b[39m\u001b[38;5;124m%\u001b[39m\u001b[38;5;124m'\u001b[39m))\n\u001b[1;32m----> 5\u001b[0m \u001b[38;5;28;01mif\u001b[39;00m \u001b[43moperationd\u001b[49m\u001b[38;5;241m==\u001b[39m\u001b[38;5;124m\"\u001b[39m\u001b[38;5;124m+\u001b[39m\u001b[38;5;124m\"\u001b[39m:\n\u001b[0;32m      6\u001b[0m     \u001b[38;5;28mprint\u001b[39m(\u001b[38;5;124m\"\u001b[39m\u001b[38;5;124mhe are we are performing adddition operation\u001b[39m\u001b[38;5;124m\"\u001b[39m,a\u001b[38;5;241m+\u001b[39mb)\n\u001b[0;32m      7\u001b[0m \u001b[38;5;28;01melif\u001b[39;00m operations\u001b[38;5;241m==\u001b[39m\u001b[38;5;124m\"\u001b[39m\u001b[38;5;124m-\u001b[39m\u001b[38;5;124m\"\u001b[39m:\n",
      "\u001b[1;31mNameError\u001b[0m: name 'operationd' is not defined"
     ]
    }
   ],
   "source": [
    "a=(\"enter a value\")\n",
    "b=(\"enter b value\")\n",
    "operations=(\"enter a operation\",('+','-','*','-','/','//','%'))\n",
    "\n",
    "if operationd==\"+\":\n",
    "    print(\"he are we are performing adddition operation\",a+b)\n",
    "elif operations==\"-\":\n",
    "     print(\"here we are performing subraction operations\",a-b)\n",
    "elif operations==\"*\":\n",
    "    print(\"here we are performing multipication operations\",a*b)\n",
    "elif operations==\"/\":\n",
    "    print(\"here we are performing division operation with out decimal point\",a/b)\n",
    "elif operations==\"//\":\n",
    "    print(\"here we are performing operation with out decimal point\",a//b)\n",
    "elif operations==\"%\":\n",
    "    print(\"here we are performing operation with out decimal point\",a%b)\n",
    "else:   \n",
    "    print(\"please enter the valid operation\")"
   ]
  },
  {
   "cell_type": "code",
   "execution_count": null,
   "id": "62ce0e25",
   "metadata": {},
   "outputs": [],
   "source": []
  }
 ],
 "metadata": {
  "kernelspec": {
   "display_name": "Python 3 (ipykernel)",
   "language": "python",
   "name": "python3"
  },
  "language_info": {
   "codemirror_mode": {
    "name": "ipython",
    "version": 3
   },
   "file_extension": ".py",
   "mimetype": "text/x-python",
   "name": "python",
   "nbconvert_exporter": "python",
   "pygments_lexer": "ipython3",
   "version": "3.10.9"
  }
 },
 "nbformat": 4,
 "nbformat_minor": 5
}
