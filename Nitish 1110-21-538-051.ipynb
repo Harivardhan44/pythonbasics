{
 "cells": [
  {
   "cell_type": "code",
   "execution_count": null,
   "id": "ca29a6e7",
   "metadata": {},
   "outputs": [],
   "source": [
    "strings=\"nitish\""
   ]
  },
  {
   "cell_type": "code",
   "execution_count": 1,
   "id": "9063b928",
   "metadata": {},
   "outputs": [],
   "source": [
    "name=\"nitish\""
   ]
  },
  {
   "cell_type": "code",
   "execution_count": 3,
   "id": "2d030036",
   "metadata": {},
   "outputs": [
    {
     "data": {
      "text/plain": [
       "'nitish'"
      ]
     },
     "execution_count": 3,
     "metadata": {},
     "output_type": "execute_result"
    }
   ],
   "source": [
    "name"
   ]
  },
  {
   "cell_type": "code",
   "execution_count": 4,
   "id": "a60d6ea8",
   "metadata": {},
   "outputs": [],
   "source": [
    "car=\"dodge\""
   ]
  },
  {
   "cell_type": "code",
   "execution_count": 5,
   "id": "cd9fc0cb",
   "metadata": {},
   "outputs": [],
   "source": [
    "bmw=\"x5\""
   ]
  },
  {
   "cell_type": "code",
   "execution_count": 6,
   "id": "41985040",
   "metadata": {},
   "outputs": [],
   "source": [
    "bmw=\"m3\""
   ]
  },
  {
   "cell_type": "code",
   "execution_count": 8,
   "id": "acc661e8",
   "metadata": {},
   "outputs": [],
   "source": [
    "car=\"chevy\""
   ]
  },
  {
   "cell_type": "code",
   "execution_count": 9,
   "id": "11ac299e",
   "metadata": {},
   "outputs": [],
   "source": [
    "gun=\"m16a4\""
   ]
  },
  {
   "cell_type": "code",
   "execution_count": 10,
   "id": "39c67e7c",
   "metadata": {},
   "outputs": [],
   "source": [
    "tank=\"leopard2a7\""
   ]
  },
  {
   "cell_type": "code",
   "execution_count": 11,
   "id": "ac688b4d",
   "metadata": {},
   "outputs": [],
   "source": [
    "spell=\"expectopetronam\""
   ]
  },
  {
   "cell_type": "code",
   "execution_count": 12,
   "id": "a51f0c7b",
   "metadata": {},
   "outputs": [],
   "source": [
    "dodge=\"challenger\""
   ]
  },
  {
   "cell_type": "code",
   "execution_count": 14,
   "id": "2a13526f",
   "metadata": {},
   "outputs": [
    {
     "data": {
      "text/plain": [
       "'chevy'"
      ]
     },
     "execution_count": 14,
     "metadata": {},
     "output_type": "execute_result"
    }
   ],
   "source": [
    "car"
   ]
  },
  {
   "cell_type": "code",
   "execution_count": 15,
   "id": "905b088b",
   "metadata": {},
   "outputs": [
    {
     "data": {
      "text/plain": [
       "'m16a4'"
      ]
     },
     "execution_count": 15,
     "metadata": {},
     "output_type": "execute_result"
    }
   ],
   "source": [
    "gun"
   ]
  },
  {
   "cell_type": "code",
   "execution_count": 16,
   "id": "5544e2c9",
   "metadata": {},
   "outputs": [
    {
     "data": {
      "text/plain": [
       "'leoparda14'"
      ]
     },
     "execution_count": 16,
     "metadata": {},
     "output_type": "execute_result"
    }
   ],
   "source": [
    "tank"
   ]
  },
  {
   "cell_type": "code",
   "execution_count": 17,
   "id": "7383e782",
   "metadata": {},
   "outputs": [
    {
     "data": {
      "text/plain": [
       "'expectopetronam'"
      ]
     },
     "execution_count": 17,
     "metadata": {},
     "output_type": "execute_result"
    }
   ],
   "source": [
    "spell"
   ]
  },
  {
   "cell_type": "code",
   "execution_count": 18,
   "id": "eb7b9e1a",
   "metadata": {},
   "outputs": [
    {
     "data": {
      "text/plain": [
       "'challenger'"
      ]
     },
     "execution_count": 18,
     "metadata": {},
     "output_type": "execute_result"
    }
   ],
   "source": [
    "dodge"
   ]
  },
  {
   "cell_type": "code",
   "execution_count": 19,
   "id": "5da2e0e1",
   "metadata": {},
   "outputs": [
    {
     "data": {
      "text/plain": [
       "'m5'"
      ]
     },
     "execution_count": 19,
     "metadata": {},
     "output_type": "execute_result"
    }
   ],
   "source": [
    "bmw"
   ]
  },
  {
   "cell_type": "code",
   "execution_count": 20,
   "id": "c9691eb3",
   "metadata": {},
   "outputs": [],
   "source": [
    "number=\"2030\""
   ]
  },
  {
   "cell_type": "code",
   "execution_count": 21,
   "id": "ef29fd0e",
   "metadata": {},
   "outputs": [
    {
     "data": {
      "text/plain": [
       "'2030'"
      ]
     },
     "execution_count": 21,
     "metadata": {},
     "output_type": "execute_result"
    }
   ],
   "source": [
    "number"
   ]
  },
  {
   "cell_type": "code",
   "execution_count": 22,
   "id": "1050be96",
   "metadata": {},
   "outputs": [
    {
     "data": {
      "text/plain": [
       "str"
      ]
     },
     "execution_count": 22,
     "metadata": {},
     "output_type": "execute_result"
    }
   ],
   "source": [
    "type(number)"
   ]
  },
  {
   "cell_type": "code",
   "execution_count": 23,
   "id": "2732bf90",
   "metadata": {},
   "outputs": [],
   "source": [
    "number1=2030"
   ]
  },
  {
   "cell_type": "code",
   "execution_count": 24,
   "id": "2310fa2c",
   "metadata": {},
   "outputs": [
    {
     "data": {
      "text/plain": [
       "2030"
      ]
     },
     "execution_count": 24,
     "metadata": {},
     "output_type": "execute_result"
    }
   ],
   "source": [
    "number1"
   ]
  },
  {
   "cell_type": "code",
   "execution_count": 25,
   "id": "fd2119da",
   "metadata": {},
   "outputs": [
    {
     "data": {
      "text/plain": [
       "int"
      ]
     },
     "execution_count": 25,
     "metadata": {},
     "output_type": "execute_result"
    }
   ],
   "source": [
    "type(number1)"
   ]
  },
  {
   "cell_type": "code",
   "execution_count": 28,
   "id": "d92edb79",
   "metadata": {},
   "outputs": [
    {
     "ename": "SyntaxError",
     "evalue": "invalid decimal literal (2927378973.py, line 1)",
     "output_type": "error",
     "traceback": [
      "\u001b[1;36m  Cell \u001b[1;32mIn[28], line 1\u001b[1;36m\u001b[0m\n\u001b[1;33m    1number=\"nitish\"\u001b[0m\n\u001b[1;37m    ^\u001b[0m\n\u001b[1;31mSyntaxError\u001b[0m\u001b[1;31m:\u001b[0m invalid decimal literal\n"
     ]
    }
   ],
   "source": [
    "1number=\"nitish\""
   ]
  },
  {
   "cell_type": "markdown",
   "id": "9b269fdf",
   "metadata": {},
   "source": [
    "# \"nitish\""
   ]
  },
  {
   "cell_type": "markdown",
   "id": "d257251a",
   "metadata": {},
   "source": [
    "## nitish"
   ]
  },
  {
   "cell_type": "markdown",
   "id": "8ba3a092",
   "metadata": {},
   "source": [
    "# $nitish$"
   ]
  },
  {
   "cell_type": "markdown",
   "id": "00aba387",
   "metadata": {},
   "source": [
    "# ^nitish^"
   ]
  },
  {
   "cell_type": "markdown",
   "id": "0561ea17",
   "metadata": {},
   "source": [
    "# {nitish}"
   ]
  },
  {
   "cell_type": "code",
   "execution_count": 30,
   "id": "d23a1dad",
   "metadata": {},
   "outputs": [],
   "source": [
    "s=(1,2,3,4,5,6,7)"
   ]
  },
  {
   "cell_type": "code",
   "execution_count": 31,
   "id": "fd8cec7c",
   "metadata": {},
   "outputs": [
    {
     "data": {
      "text/plain": [
       "tuple"
      ]
     },
     "execution_count": 31,
     "metadata": {},
     "output_type": "execute_result"
    }
   ],
   "source": [
    "type(s)"
   ]
  },
  {
   "cell_type": "code",
   "execution_count": 32,
   "id": "03e56985",
   "metadata": {},
   "outputs": [],
   "source": [
    "s1=(\"nitish\",'coding','🛹','😎')"
   ]
  },
  {
   "cell_type": "code",
   "execution_count": 33,
   "id": "de0fda6c",
   "metadata": {},
   "outputs": [
    {
     "data": {
      "text/plain": [
       "('nitish', 'coding', '🛹', '😎')"
      ]
     },
     "execution_count": 33,
     "metadata": {},
     "output_type": "execute_result"
    }
   ],
   "source": [
    "s1"
   ]
  },
  {
   "cell_type": "code",
   "execution_count": 34,
   "id": "36b8bd95",
   "metadata": {},
   "outputs": [
    {
     "data": {
      "text/plain": [
       "tuple"
      ]
     },
     "execution_count": 34,
     "metadata": {},
     "output_type": "execute_result"
    }
   ],
   "source": [
    "type(s1)"
   ]
  },
  {
   "cell_type": "code",
   "execution_count": 35,
   "id": "eb3208e4",
   "metadata": {},
   "outputs": [],
   "source": [
    "car=['dodge','chevy','ford']"
   ]
  },
  {
   "cell_type": "code",
   "execution_count": 37,
   "id": "7a9d3043",
   "metadata": {},
   "outputs": [
    {
     "data": {
      "text/plain": [
       "list"
      ]
     },
     "execution_count": 37,
     "metadata": {},
     "output_type": "execute_result"
    }
   ],
   "source": [
    "type(car)"
   ]
  },
  {
   "cell_type": "code",
   "execution_count": 38,
   "id": "06ff057b",
   "metadata": {},
   "outputs": [],
   "source": [
    "s2={1,2,3,4,5,\"coding\",\"kmics\",\"nitish\",\"phone\"}"
   ]
  },
  {
   "cell_type": "code",
   "execution_count": 39,
   "id": "be9cc6a9",
   "metadata": {},
   "outputs": [
    {
     "data": {
      "text/plain": [
       "set"
      ]
     },
     "execution_count": 39,
     "metadata": {},
     "output_type": "execute_result"
    }
   ],
   "source": [
    "type(s2)"
   ]
  },
  {
   "cell_type": "code",
   "execution_count": 40,
   "id": "984a3401",
   "metadata": {},
   "outputs": [
    {
     "data": {
      "text/plain": [
       "{1, 2, 3, 4, 5, 'coding', 'kmics', 'nitish', 'phone'}"
      ]
     },
     "execution_count": 40,
     "metadata": {},
     "output_type": "execute_result"
    }
   ],
   "source": [
    "s2"
   ]
  },
  {
   "cell_type": "code",
   "execution_count": null,
   "id": "bf877950",
   "metadata": {},
   "outputs": [],
   "source": []
  }
 ],
 "metadata": {
  "kernelspec": {
   "display_name": "Python 3 (ipykernel)",
   "language": "python",
   "name": "python3"
  },
  "language_info": {
   "codemirror_mode": {
    "name": "ipython",
    "version": 3
   },
   "file_extension": ".py",
   "mimetype": "text/x-python",
   "name": "python",
   "nbconvert_exporter": "python",
   "pygments_lexer": "ipython3",
   "version": "3.10.9"
  }
 },
 "nbformat": 4,
 "nbformat_minor": 5
}
